{
  "nbformat": 4,
  "nbformat_minor": 0,
  "metadata": {
    "colab": {
      "name": "webscarping amazonipynb",
      "provenance": [],
      "collapsed_sections": [],
      "authorship_tag": "ABX9TyMwyIwfPYrRx1xriaZ1jTth",
      "include_colab_link": true
    },
    "kernelspec": {
      "name": "python3",
      "display_name": "Python 3"
    },
    "language_info": {
      "name": "python"
    }
  },
  "cells": [
    {
      "cell_type": "markdown",
      "metadata": {
        "id": "view-in-github",
        "colab_type": "text"
      },
      "source": [
        "<a href=\"https://colab.research.google.com/github/dhruvilm28/webscraperamazon/blob/main/webscarping_amazonipynb.ipynb\" target=\"_parent\"><img src=\"https://colab.research.google.com/assets/colab-badge.svg\" alt=\"Open In Colab\"/></a>"
      ]
    },
    {
      "cell_type": "code",
      "metadata": {
        "id": "YFjYbDLIaR6B"
      },
      "source": [
        "from bs4 import BeautifulSoup\n",
        "import requests\n",
        "import time\n",
        "import datetime\n",
        "import smtplib"
      ],
      "execution_count": 2,
      "outputs": []
    },
    {
      "cell_type": "code",
      "metadata": {
        "id": "-5sMW27mYtWc"
      },
      "source": [
        ""
      ],
      "execution_count": null,
      "outputs": []
    },
    {
      "cell_type": "code",
      "metadata": {
        "colab": {
          "base_uri": "https://localhost:8080/"
        },
        "id": "FFeF9Sp9flW7",
        "outputId": "9ca7c1e9-8ff8-4be4-8c5c-dd2208d80e87"
      },
      "source": [
        "url='https://www.amazon.in/Allen-Solly-Mens-Polo-8907587727042_AMKP317G04237_Green_Large/dp/B06Y2BZJN6/ref=sr_1_1?dchild=1&pf_rd_i=1968024031&pf_rd_m=A1VBAL9TL5WCBF&pf_rd_p=065cffb9-0b98-4457-99d6-49844333a305&pf_rd_r=C60EYPBRKJ2D6BN4D6JT&pf_rd_s=merchandised-search-2&qid=1630317470&refinements=p_85%3A10440599031%2Cp_72%3A1318476031&rnid=1318475031&rps=1&s=apparel&sr=1-1'\n",
        "\n",
        "headers={\"User-Agent\": \"Mozilla/5.0 (Windows NT 10.0; Win64; x64) AppleWebKit/537.36 (KHTML, like Gecko) Chrome/92.0.4515.159 Safari/537.36\"}\n",
        "\n",
        "page=requests.get(url,headers=headers)\n",
        "\n",
        "\n",
        "soup1=BeautifulSoup(page.content,\"html.parser\")\n",
        "soup2=BeautifulSoup(soup1.prettify(),\"html.parser\")\n",
        "#print(soup2)\n",
        "title=soup2.find(id='productTitle').get_text()\n",
        "price=soup2.find(id='priceblock_ourprice').get_text()\n",
        "print(title,price)\n",
        "\n"
      ],
      "execution_count": 3,
      "outputs": [
        {
          "output_type": "stream",
          "name": "stdout",
          "text": [
            "\n",
            "                   Allen Solly Men's Polo\n",
            "                   \n",
            "                    ₹579.00 - ₹589.00\n",
            "                   \n"
          ]
        }
      ]
    },
    {
      "cell_type": "code",
      "metadata": {
        "colab": {
          "base_uri": "https://localhost:8080/"
        },
        "id": "9k46rdYkrxsJ",
        "outputId": "6d118900-d493-4004-bd5c-6c24540c7e6a"
      },
      "source": [
        "#editing data collected\n",
        "title=title.strip()\n",
        "price=price.strip()\n",
        "print(title)\n",
        "print(price)\n",
        "\n",
        "today=datetime.date.today()\n",
        "print(today)\n",
        "\n"
      ],
      "execution_count": 17,
      "outputs": [
        {
          "output_type": "stream",
          "name": "stdout",
          "text": [
            "Allen Solly Men's Polo\n",
            "₹579.00 - ₹589.00\n",
            "2021-09-06\n"
          ]
        }
      ]
    },
    {
      "cell_type": "code",
      "metadata": {
        "id": "3mxTtjXlY5qv"
      },
      "source": [
        "import csv\n",
        "\n",
        "header=['Ptitle', 'Price', 'Date']\n",
        "data=[title, price, today]\n",
        "\n",
        "#with open('tshirtscraper.csv','w', newline='', encoding='UTF8') as f:\n",
        " # wr=csv.writer(f)\n",
        "  #wr.writerow(header)\n",
        "  #wr.writerow(data)\n",
        "\n",
        "\n",
        "\n",
        "\n"
      ],
      "execution_count": 18,
      "outputs": []
    },
    {
      "cell_type": "code",
      "metadata": {
        "id": "n68nS-VypPiB"
      },
      "source": [
        "def check_price():\n",
        "  url='https://www.amazon.in/Allen-Solly-Mens-Polo-8907587727042_AMKP317G04237_Green_Large/dp/B06Y2BZJN6/ref=sr_1_1?dchild=1&pf_rd_i=1968024031&pf_rd_m=A1VBAL9TL5WCBF&pf_rd_p=065cffb9-0b98-4457-99d6-49844333a305&pf_rd_r=C60EYPBRKJ2D6BN4D6JT&pf_rd_s=merchandised-search-2&qid=1630317470&refinements=p_85%3A10440599031%2Cp_72%3A1318476031&rnid=1318475031&rps=1&s=apparel&sr=1-1'\n",
        "\n",
        "  headers={\"User-Agent\": \"Mozilla/5.0 (Windows NT 10.0; Win64; x64) AppleWebKit/537.36 (KHTML, like Gecko) Chrome/92.0.4515.159 Safari/537.36\"}\n",
        "\n",
        "  page=requests.get(url,headers=headers)\n",
        "\n",
        "\n",
        "  soup1=BeautifulSoup(page.content,\"html.parser\")\n",
        "  soup2=BeautifulSoup(soup1.prettify(),\"html.parser\")\n",
        "#print(soup2)\n",
        "  title=soup2.find(id='productTitle').get_text()\n",
        "  price=soup2.find(id='priceblock_ourprice').get_text()\n",
        "  #print(title,price)\n",
        "  title=title.strip()\n",
        "  price=price.strip()\n",
        "#print(title)\n",
        "#print(price)\n",
        "\n",
        "  today=datetime.date.today()\n",
        "  #print(today)\n",
        "  import csv\n",
        "\n",
        "  header=['Ptitle', 'Price', 'Date']\n",
        "  data=[title, price, today]\n",
        "\n",
        "  with open('tshirtscraper.csv','w', newline='', encoding='UTF8') as f:\n",
        "    wr=csv.writer(f)\n",
        "    wr.writerow(header)\n",
        "    wr.writerow(data)\n",
        "\n",
        "  if(price<579):\n",
        "    send_mail()\n",
        "\n",
        "\n",
        "\n"
      ],
      "execution_count": 20,
      "outputs": []
    },
    {
      "cell_type": "code",
      "metadata": {
        "id": "xaU9V-Hlp4Zb"
      },
      "source": [
        "while(True):\n",
        "  check_price()\n",
        "  time.sleep(86400)"
      ],
      "execution_count": null,
      "outputs": []
    },
    {
      "cell_type": "markdown",
      "metadata": {
        "id": "CXpsLVojcPpq"
      },
      "source": [
        "# New Section"
      ]
    },
    {
      "cell_type": "code",
      "metadata": {
        "id": "EfVxoDCwspXs"
      },
      "source": [
        "def send_mail():\n",
        "    server = smtplib.SMTP_SSL('smtp.gmail.com',465)\n",
        "    server.ehlo()\n",
        "    #server.starttls()\n",
        "    server.ehlo()\n",
        "    server.login('dhruvilmht0319@gmail.com','xxxxxxxxxxxxxx')\n",
        "    \n",
        "    subject = \"The Shirt you want is below RS 579! Now is your chance to buy!\"\n",
        "    body = \"Dhruvil, This is the moment we have been waiting for. Now is your chance to pick up the shirt of your dreams. Don't mess it up! Link here: https://www.amazon.in/Allen-Solly-Mens-Polo-8907587727042_AMKP317G04237_Green_Large/dp/B06Y2BZJN6/ref=sr_1_1?dchild=1&pf_rd_i=1968024031&pf_rd_m=A1VBAL9TL5WCBF&pf_rd_p=065cffb9-0b98-4457-99d6-49844333a305&pf_rd_r=C60EYPBRKJ2D6BN4D6JT&pf_rd_s=merchandised-search-2&qid=1630317470&refinements=p_85%3A10440599031%2Cp_72%3A1318476031&rnid=1318475031&rps=1&s=apparel&sr=1-1\"\n",
        "   \n",
        "    msg = f\"Subject: {subject}\\n\\n{body}\"\n",
        "    \n",
        "    server.sendmail(\n",
        "        'dhruvilmht0319@gmail.com',\n",
        "        msg"
      ],
      "execution_count": null,
      "outputs": []
    },
    {
      "cell_type": "markdown",
      "metadata": {
        "id": "7bgxPNfBcQEA"
      },
      "source": [
        "# New Section"
      ]
    }
  ]
}